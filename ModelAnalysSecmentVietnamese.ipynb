{
  "nbformat": 4,
  "nbformat_minor": 0,
  "metadata": {
    "colab": {
      "name": "ModelAnalysSecmentVietnamese.ipynb",
      "provenance": [],
      "private_outputs": true,
      "machine_shape": "hm",
      "include_colab_link": true
    },
    "kernelspec": {
      "name": "python3",
      "display_name": "Python 3"
    }
  },
  "cells": [
    {
      "cell_type": "markdown",
      "metadata": {
        "id": "view-in-github",
        "colab_type": "text"
      },
      "source": [
        "<a href=\"https://colab.research.google.com/github/phamhoangtin/Analysis-Segmentation-TikiComment/blob/master/ModelAnalysSecmentVietnamese.ipynb\" target=\"_parent\"><img src=\"https://colab.research.google.com/assets/colab-badge.svg\" alt=\"Open In Colab\"/></a>"
      ]
    },
    {
      "cell_type": "code",
      "metadata": {
        "id": "30xrEXyIbc9J",
        "colab_type": "code",
        "colab": {}
      },
      "source": [
        "# Import libraries\n",
        "import pandas as pd\n",
        "import json, codecs, os, csv\n",
        "from time import time\n",
        "import re\n",
        "from lxml.etree import tostring\n",
        "import numpy as np\n",
        "from tensorflow.keras import layers\n",
        "from tensorflow import keras \n",
        "import tensorflow as tf\n",
        "from keras.preprocessing import sequence\n",
        "import matplotlib.pyplot as plt"
      ],
      "execution_count": 0,
      "outputs": []
    },
    {
      "cell_type": "code",
      "metadata": {
        "id": "JIcFoTmg6oEi",
        "colab_type": "code",
        "colab": {}
      },
      "source": [
        "from google.colab import drive\n",
        "drive.mount('/content/drive')"
      ],
      "execution_count": 0,
      "outputs": []
    },
    {
      "cell_type": "code",
      "metadata": {
        "id": "yzW981bHbhJx",
        "colab_type": "code",
        "colab": {}
      },
      "source": [
        "df = pd.read_csv(\"DataClean1.csv\",sep =',')"
      ],
      "execution_count": 0,
      "outputs": []
    },
    {
      "cell_type": "code",
      "metadata": {
        "id": "T9DAwLEycp43",
        "colab_type": "code",
        "colab": {}
      },
      "source": [
        "from gensim.models import Word2Vec\n",
        "input_gensim = []\n",
        "comments = df.comment_clear.tolist()\n",
        "for comment in comments:\n",
        "    input_gensim.append(comment.split())\n",
        "    \n",
        "model = Word2Vec(input_gensim, size=128, window=5, min_count=0, workers=4, sg=1)\n",
        "model.wv.save(\"word.model\")"
      ],
      "execution_count": 0,
      "outputs": []
    },
    {
      "cell_type": "code",
      "metadata": {
        "id": "s6ecWPxXcvtn",
        "colab_type": "code",
        "colab": {}
      },
      "source": [
        "import gensim.models.keyedvectors as word2vec\n",
        "model_embedding = word2vec.KeyedVectors.load('./word.model')\n",
        "word_labels = []\n",
        "max_seq = 20\n",
        "embedding_size = 128\n",
        "\n",
        "for word in model_embedding.vocab.keys():\n",
        "    word_labels.append(word)\n",
        "    \n",
        "def comment_embedding(comment):\n",
        "    matrix = np.zeros((max_seq, embedding_size))\n",
        "    words = comment.split()\n",
        "    lencmt = len(words)\n",
        "\n",
        "    for i in range(max_seq):\n",
        "        indexword = i % lencmt\n",
        "        if (max_seq - i < lencmt):\n",
        "            break\n",
        "        if(words[indexword] in word_labels):\n",
        "            matrix[i] = model_embedding[words[indexword]]\n",
        "    matrix = np.array(matrix)\n",
        "    return matrix"
      ],
      "execution_count": 0,
      "outputs": []
    },
    {
      "cell_type": "code",
      "metadata": {
        "id": "vItIOAbFc4-5",
        "colab_type": "code",
        "colab": {}
      },
      "source": [
        "df_train = df.sample(10000)\n",
        "train_data = []\n",
        "label_data = []\n",
        "train_data_raw = df_train.comment_clear.to_numpy()\n",
        "label_data_raw = df_train.label.to_numpy()\n",
        "\n",
        "for x in train_data_raw:\n",
        "    train_data.append(comment_embedding(x))\n",
        "train_data = np.array(train_data)\n",
        "\n",
        "for y in label_data_raw:\n",
        "    label_ = np.zeros(2)\n",
        "    try:\n",
        "        label_[int(y)] = 1\n",
        "    except:\n",
        "        label_[0] = 1\n",
        "    label_data.append(label_)"
      ],
      "execution_count": 0,
      "outputs": []
    },
    {
      "cell_type": "code",
      "metadata": {
        "id": "gIBgIbg8c8LS",
        "colab_type": "code",
        "colab": {}
      },
      "source": [
        "sequence_length = 20\n",
        "embedding_size = 128\n",
        "num_classes = 2\n",
        "filter_sizes = 3\n",
        "num_filters = 150\n",
        "epochs = 50\n",
        "batch_size = 30\n",
        "learning_rate = 0.01\n",
        "dropout_rate = 0.5\n",
        "x_train = train_data.reshape(train_data.shape[0], sequence_length, embedding_size, 1).astype('float32')\n",
        "y_train = np.array(label_data)\n"
      ],
      "execution_count": 0,
      "outputs": []
    },
    {
      "cell_type": "code",
      "metadata": {
        "id": "4WgVcu6u8Rnr",
        "colab_type": "code",
        "colab": {}
      },
      "source": [
        "# Define model\n",
        "model = keras.Sequential()\n",
        "model.add(layers.Convolution2D(num_filters, (filter_sizes, embedding_size),\n",
        "                        padding='valid',\n",
        "                        input_shape=(sequence_length, embedding_size, 1), activation='relu'))\n",
        "model.add(layers.MaxPooling2D(pool_size=(18, 1)))\n",
        "model.add(layers.Dropout(dropout_rate))\n",
        "model.add(layers.Flatten())\n",
        "model.add(layers.Dense(128, activation='relu'))\n",
        "model.add(layers.Dense(2, activation='softmax'))\n",
        "# Train model\n",
        "adam = tf.train.AdamOptimizer()\n",
        "model.compile(loss='binary_crossentropy',\n",
        "              optimizer=adam,\n",
        "              metrics=['accuracy'])\n",
        "print(model.summary())\n"
      ],
      "execution_count": 0,
      "outputs": []
    },
    {
      "cell_type": "code",
      "metadata": {
        "id": "VT_YDppp-SO1",
        "colab_type": "code",
        "colab": {}
      },
      "source": [
        "y_train = y_train.astype('float32')\n",
        "y_train.dtype"
      ],
      "execution_count": 0,
      "outputs": []
    },
    {
      "cell_type": "code",
      "metadata": {
        "id": "ASvCsOKFc-VX",
        "colab_type": "code",
        "colab": {}
      },
      "source": [
        "model.fit(x = x_train[:300000], y = y_train[:300000], batch_size = batch_size, verbose=1, epochs=epochs, validation_data=(x_train[:30000], y_train[:30000]))\n",
        "\n",
        "model.save('models.h5')"
      ],
      "execution_count": 0,
      "outputs": []
    },
    {
      "cell_type": "code",
      "metadata": {
        "id": "GrsDfnwYgXzn",
        "colab_type": "code",
        "colab": {}
      },
      "source": [
        "text = 'hài lòng'\n",
        "maxtrix_embedding = np.expand_dims(comment_embedding(text), axis=0)\n",
        "maxtrix_embedding = np.expand_dims(maxtrix_embedding, axis=3)\n",
        "\n",
        "result = model.predict(maxtrix_embedding)\n",
        "result = np.argmax(result)\n",
        "print(\"Label predict: \", result)"
      ],
      "execution_count": 0,
      "outputs": []
    },
    {
      "cell_type": "code",
      "metadata": {
        "id": "oE8jqkhIBMuV",
        "colab_type": "code",
        "colab": {}
      },
      "source": [
        "text = 'chất lượng kém'\n",
        "maxtrix_embedding = np.expand_dims(comment_embedding(text), axis=0)\n",
        "maxtrix_embedding = np.expand_dims(maxtrix_embedding, axis=3)\n",
        "\n",
        "result = model.predict(maxtrix_embedding)\n",
        "result = np.argmax(result)\n",
        "print(\"Label predict: \", result)"
      ],
      "execution_count": 0,
      "outputs": []
    },
    {
      "cell_type": "code",
      "metadata": {
        "id": "iP1INxpaD5Kg",
        "colab_type": "code",
        "colab": {}
      },
      "source": [
        "text = 'giao hàng nhanh'\n",
        "maxtrix_embedding = np.expand_dims(comment_embedding(text), axis=0)\n",
        "maxtrix_embedding = np.expand_dims(maxtrix_embedding, axis=3)\n",
        "\n",
        "result = model.predict(maxtrix_embedding)\n",
        "result = np.argmax(result)\n",
        "print(\"Label predict: \", result)"
      ],
      "execution_count": 0,
      "outputs": []
    },
    {
      "cell_type": "code",
      "metadata": {
        "id": "A9qydMqcclYM",
        "colab_type": "code",
        "colab": {}
      },
      "source": [
        ""
      ],
      "execution_count": 0,
      "outputs": []
    }
  ]
}