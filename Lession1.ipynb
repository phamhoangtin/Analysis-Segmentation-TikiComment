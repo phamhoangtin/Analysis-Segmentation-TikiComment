{
  "nbformat": 4,
  "nbformat_minor": 0,
  "metadata": {
    "colab": {
      "name": "Lession1.ipynb",
      "provenance": [],
      "collapsed_sections": [],
      "authorship_tag": "ABX9TyPqIkzXJ/ahN6VJTO3MSmI1",
      "include_colab_link": true
    },
    "kernelspec": {
      "name": "python3",
      "display_name": "Python 3"
    }
  },
  "cells": [
    {
      "cell_type": "markdown",
      "metadata": {
        "id": "view-in-github",
        "colab_type": "text"
      },
      "source": [
        "<a href=\"https://colab.research.google.com/github/phamhoangtin/Analysis-Segmentation-TikiComment/blob/master/Lession1.ipynb\" target=\"_parent\"><img src=\"https://colab.research.google.com/assets/colab-badge.svg\" alt=\"Open In Colab\"/></a>"
      ]
    },
    {
      "cell_type": "markdown",
      "metadata": {
        "id": "Cf0HgS1pKlYQ",
        "colab_type": "text"
      },
      "source": [
        "<h1>Giới thiệu khóa học</h1>\n",
        "<h2><font color = 'orange'> I. Python là gì?<font></h2>\n",
        "<ul>\n",
        "<li>Python là một ngôn ngữ lập trình <b>bậc cao</b> do Guido van Rossum tạo ra và lần đầu ra mắt vào năm 1991.</li> \n",
        "<li>Python được thiết kế với ưu điểm mạnh là dễ đọc, dễ học và dễ nhớ. Có hình thức rất sáng sủa, cấu trúc rõ ràng, thuận tiện cho người mới học lập trình</li>\n",
        "<li>Python là ngôn ngữ được sử dụng nhiều nhất thế giới. Có thể hỗ trợ nhiều mục đích khác nhau như làm game, desktop app, web, AI, machine learning,...</li>\n",
        "</ul>\n",
        "\n",
        "<h2><font color = 'orange'> II. Cài đặt python vào máy tính.<font></h2>\n",
        "<ul>\n",
        "<li>Hiện nay để lập trình python có thể dùng các công cụ online như <a href = \"https://www.google.com/url?sa=t&rct=j&q=&esrc=s&source=web&cd=1&cad=rja&uact=8&ved=2ahUKEwjRrsT27c7nAhUlCqYKHQv5C9cQFjAAegQIBxAC&url=https%3A%2F%2Fcolab.research.google.com%2F&usg=AOvVaw3A5aPK2kLFzKOzb6sOckVw\">Google Colab</a> sẽ hỗ trợ người dùng trong việc học lập trình nhanh hơn. Không cần cài thêm phần mềm vào máy tính - sử dụng trực tiếp từ phần cứng của GOOGLE cung cấp. Tuy nhiên yêu cầu kết nối Internet </li>\n",
        "<li>Hoặc có thể cài đặt python vào máy tính cách tiện nhất là cài đặt thư viện <a href=\"https://www.anaconda.com/distribution/\">ANACONDA</a>. Sau khi cài đặt ANACONDA bạn phải cài thêm một công cụ để làm môi trường lập trình. Đề xuất cài đặt phần mềm <a href =\"https://code.visualstudio.com\">Visual Studio Code</a></li>\n",
        "<li>Trong tài liệu này để cho thuận tiện mình sẽ dùng GOOGLE COLAB để cài đặt các đoạn mã lập trình ( sau này sẽ gọi là <b>CODE</b> )</li>\n",
        "<li><a href = \"https://www.youtube.com/watch?v=inN8seMm7UI\">Hướng dẫn sử dụng GOOGLE COLAB</a></li>\n",
        "\n",
        "</ul>\n",
        "</ul>"
      ]
    },
    {
      "cell_type": "markdown",
      "metadata": {
        "id": "Njd1dgfCQm1I",
        "colab_type": "text"
      },
      "source": [
        "<h2><font color = 'orange'>III. Chương trình đầu tiên.</font></h2>\n",
        "<h3><font color = 'brown'> 1. Lệnh In ra màn hình</font></h3>\n",
        "<p> Để in ra màn hình trong python ta sử dụng câu lệnh <b> print()</b><br>\n",
        "cú pháp:\n",
        "\n",
        "```\n",
        "print(Giá_trị_cần_in)\n",
        "```Xem VD bên dưới</p> "
      ]
    },
    {
      "cell_type": "code",
      "metadata": {
        "id": "08R7vxUuQcTg",
        "colab_type": "code",
        "colab": {
          "base_uri": "https://localhost:8080/",
          "height": 68
        },
        "outputId": "af486ec3-3006-4a1d-83f2-ba1cd426d985"
      },
      "source": [
        "#In 1 đoạn text\n",
        "print(\"Hello Word!\")\n",
        "#In 1 số ra màn hình\n",
        "print(345)\n",
        "#In vừa chữ vừa số ra màn hình\n",
        "print(1,2,3,5,'Em có đánh rơi nhịp nào không?')"
      ],
      "execution_count": null,
      "outputs": [
        {
          "output_type": "stream",
          "text": [
            "Hello Word!\n",
            "345\n",
            "1 2 3 5 Em có đánh rơi nhịp nào không?\n"
          ],
          "name": "stdout"
        }
      ]
    },
    {
      "cell_type": "markdown",
      "metadata": {
        "id": "QX423Hdagp9r",
        "colab_type": "text"
      },
      "source": [
        "Sau mỗi lệnh $print()$ sẽ tự động xuống dòng mới.<br>\n",
        "Ta dùng thêm <b>Tham số 'end'</b> (tham số sẽ được nói kĩ hơn trong Lession3), để có thể nối nhiều lệnh print() liên tiếp\n",
        "\n",
        "\n"
      ]
    },
    {
      "cell_type": "code",
      "metadata": {
        "id": "su3z0_JKhj08",
        "colab_type": "code",
        "colab": {
          "base_uri": "https://localhost:8080/",
          "height": 34
        },
        "outputId": "018fa454-7d04-49cb-adba-7410c2728f1e"
      },
      "source": [
        "# các lệnh print liền kề nhau\n",
        "print('a',end='')\n",
        "print('b',end='')\n",
        "print('c',end='')"
      ],
      "execution_count": null,
      "outputs": [
        {
          "output_type": "stream",
          "text": [
            "abc"
          ],
          "name": "stdout"
        }
      ]
    },
    {
      "cell_type": "code",
      "metadata": {
        "id": "uMOed3bXh0SY",
        "colab_type": "code",
        "colab": {
          "base_uri": "https://localhost:8080/",
          "height": 34
        },
        "outputId": "59b034d2-e475-4663-ae19-02daadc9a578"
      },
      "source": [
        "# các lệnh print nối với nhau bởi dấu cách\n",
        "print('a',end=' ')\n",
        "print('b',end=' ')\n",
        "print('c',end=' ')"
      ],
      "execution_count": null,
      "outputs": [
        {
          "output_type": "stream",
          "text": [
            "a b c "
          ],
          "name": "stdout"
        }
      ]
    },
    {
      "cell_type": "code",
      "metadata": {
        "id": "3mjhNDn_h5XR",
        "colab_type": "code",
        "colab": {
          "base_uri": "https://localhost:8080/",
          "height": 68
        },
        "outputId": "50611937-3c2b-41a9-d230-b3f22a68d075"
      },
      "source": [
        "#in không có tham số sẽ mặc định xuống dòng\n",
        "print('a')\n",
        "print('b')\n",
        "print('c')"
      ],
      "execution_count": null,
      "outputs": [
        {
          "output_type": "stream",
          "text": [
            "a\n",
            "b\n",
            "c\n"
          ],
          "name": "stdout"
        }
      ]
    },
    {
      "cell_type": "markdown",
      "metadata": {
        "id": "ne7wh2KhiY9E",
        "colab_type": "text"
      },
      "source": [
        "<font color = 'olive'>Các kí tự đặc biệt</font>\n",
        "để in các kí tự này ta phải nhở một số format đặc biệt sau\n",
        "<ol>\n",
        "<li>$\\n$ : kí tự xuống dòng</li>\n",
        "<li>$\\t$ : kí tự xuống dòng dấu $tab$</li>\n",
        "<li>\\\\ : kí tự \\</li>\n",
        "<li>$\\\"$ : kí tự $\"$</li>\n",
        "<li>$\\'$ : kí tự $'$</li>\n",
        "</ol>"
      ]
    },
    {
      "cell_type": "code",
      "metadata": {
        "id": "PwgjymjZi-EX",
        "colab_type": "code",
        "colab": {
          "base_uri": "https://localhost:8080/",
          "height": 68
        },
        "outputId": "14712d2b-5730-4686-d894-fe873f9244e6"
      },
      "source": [
        "print('hello \\n How are you \\t Im fine!')\n",
        "print(\"remember \\\"never give up\\\"\")"
      ],
      "execution_count": null,
      "outputs": [
        {
          "output_type": "stream",
          "text": [
            "hello \n",
            " How are you \t Im fine!\n",
            "remember \"never give up\"\n"
          ],
          "name": "stdout"
        }
      ]
    },
    {
      "cell_type": "markdown",
      "metadata": {
        "id": "3UbxBC9lR2-5",
        "colab_type": "text"
      },
      "source": [
        "<h3><font color = 'brown'> 2. Biến trong python (Variable) </font></h3>\n",
        "<ul>\n",
        "<li>Ví dụ: Số <font color=\"red\">$3.141592653589793$</font> là một phần nhỏ của số <font color=\"red\">$\\pi$</font>. <br>Trong các bài toán đòi hỏi sự chính xác cao, mỗi lần sử dụng <font color=\"red\">$\\pi$</font> ta đều phải viết chính xác lại con số này thì lập trình quả là một việc không dễ dàng.  </li>\n",
        "=> Để giải quyết việc này tao bảo máy tính tạo cho ta một vùng nhớ lưu giá trị đầy đủ của <font color = 'red'>$\\pi$</font>. Và đặt tên cho vùng nhớ đó là $pi$.<br>Để sử dụng số <font color='red'>$\\pi$</font> ta chỉ cần gọi lại tên vùng nhớ đã lưu là $pi$</font>.<br> Khi đó $pi$ được xem là 1 biến.\n",
        "<li>Xem ví dụ bên dưới</li> \n",
        "</ul>"
      ]
    },
    {
      "cell_type": "code",
      "metadata": {
        "id": "GYedaGi5R-2v",
        "colab_type": "code",
        "colab": {
          "base_uri": "https://localhost:8080/",
          "height": 51
        },
        "outputId": "439e7262-739d-4059-8c16-486240709a62"
      },
      "source": [
        "# khái báo (Delare) và khởi tạo (initialize)\n",
        "pi = 3.141592653589793\n",
        "print(pi)\n",
        "\n",
        "#Thay đổi giá trị của biến pi\n",
        "pi = 3.14\n",
        "print(pi)"
      ],
      "execution_count": null,
      "outputs": [
        {
          "output_type": "stream",
          "text": [
            "3.141592653589793\n",
            "3.14\n"
          ],
          "name": "stdout"
        }
      ]
    },
    {
      "cell_type": "markdown",
      "metadata": {
        "id": "s0YCIM7BhC_8",
        "colab_type": "text"
      },
      "source": [
        "<ol>\n",
        "<b>Lưu ý</b>\n",
        "<li>Biến trong Python có thể thay đổi <b>Kiểu Dữ liệu</b> theo giá trị mà nó lưu trữ<br>f = 5 -> <i>int --số nguyên</i>\n",
        "<br>f = 5.5 -> <i>float --số thực</i>\n",
        "<br>f = <font color='red'>'hello C4E Python'</font> -> <i>string --chuỗi</i></li>\n",
        "<li>Biến có 2 loại là: \n",
        "    <ul>\n",
        "       <li>biến toàn cục (Global Variable) </li>\n",
        "       <li>biến cục bộ (Local variable) </li>\n",
        "    </ul>\n",
        "<li><b>Đặt tên biến phải có ý nghĩa. Đặt theo quy tắt Camel hoặc Underline</b>\n",
        "    <ul>\n",
        "      <li>Biến lưu giá trị của chiều dài có thể đặt là $lenght\\_retangle$ hoặc $lenghtRetangle$ </li>\n",
        "    </ul></li>\n",
        "</ol>"
      ]
    },
    {
      "cell_type": "markdown",
      "metadata": {
        "id": "rV8KV6iysy85",
        "colab_type": "text"
      },
      "source": [
        "<h3><font color = 'brown'> 3. Kiểu dữ liệu (Data type)</font></h3>\n",
        "<h4><font color = 'OLIVE'> a. kiểu dữ liệu cơ bản</font></h4>\n",
        "trong cuộc sống chúng ta thường tiếp xúc với các kiểu dữ liệu khác nhau như Con số , Văn bản, Hoặc đôi khi là logic ĐÚNG/SAI."
      ]
    },
    {
      "cell_type": "markdown",
      "metadata": {
        "id": "t8fcgObws5b_",
        "colab_type": "text"
      },
      "source": [
        "<p><b> python không cần khai báo một kiểu dữ liệu cố định cho một biến.<br>Kiểu dữ liệu của biến sẽ phụ thuộc vào giá trị mà biến đang lưu trữ</b></p>\n",
        "<table >\n",
        "<caption>Một số kiểu dữ liệu cơ bản</caption>\n",
        "  <tr>\n",
        "    <th>Numberic</th>\n",
        "    <th>Sequence</th>\n",
        "    <th>Logic</th>\n",
        "  </tr>\n",
        "  <tr>\n",
        "    <td>int: số nguyên</td>\n",
        "    <td>string: chuỗi kí tự</td>\n",
        "    <td>boolean: True/False</td>\n",
        "\n",
        "  </tr>\n",
        "  <tr>\n",
        "    <td>float: số thực</td>\n",
        "    <td></td>\n",
        "    <td></td>\n",
        "  </tr>\n",
        "  <tr>\n",
        "    <td>complex: số phức ($i^{2}=-1$)</td>\n",
        "    <td> </td>\n",
        "    <td></td>\n",
        "  </tr>\n",
        "  </table>\n",
        "  <p><b>để xem kiểu dữ liệu của 1 biến trong python ta dùng hàm <font color = 'navy'>$type()$<font></b></p>"
      ]
    },
    {
      "cell_type": "code",
      "metadata": {
        "id": "uKVQbpeUszmn",
        "colab_type": "code",
        "colab": {
          "base_uri": "https://localhost:8080/",
          "height": 102
        },
        "outputId": "ee2a6a6d-8bcf-426b-faf0-40416274811a"
      },
      "source": [
        "#int \n",
        "f= 5\n",
        "print(type(f))\n",
        "#float\n",
        "f = 5.5\n",
        "print(type(f))\n",
        "#Complex\n",
        "f=1+2j\n",
        "print(type(f))\n",
        "#string\n",
        "f = 'Hello C4E Python'\n",
        "print(type(f))\n",
        "#boolean \n",
        "f = True # phải viết hoa kí tự đầu\n",
        "print(type(f))\n"
      ],
      "execution_count": null,
      "outputs": [
        {
          "output_type": "stream",
          "text": [
            "<class 'int'>\n",
            "<class 'float'>\n",
            "<class 'complex'>\n",
            "<class 'str'>\n",
            "<class 'bool'>\n"
          ],
          "name": "stdout"
        }
      ]
    },
    {
      "cell_type": "markdown",
      "metadata": {
        "id": "1JsBlHD-4OZE",
        "colab_type": "text"
      },
      "source": [
        "<h4><font color = 'OLIVE'> b. kiểu dữ liệu \"tập hợp\"</font></h4>"
      ]
    },
    {
      "cell_type": "markdown",
      "metadata": {
        "id": "oKGt9aw543AK",
        "colab_type": "text"
      },
      "source": [
        "<p> <b> String: </b> Chuỗi là một tập hợp các kí tự, được đặt bên trong dấu $'$...$'$, hoặc dấu $''$...$''$ hoặc dấu \n",
        "$'''$...$'''$</p>\n",
        "<table width=\"800\" height=\"500\">\n",
        "<caption>Một số kiểu dữ liệu tập hợp khác</caption>\n",
        "<tr>\n",
        "    <th></th>\n",
        "    <th>List</th>\n",
        "    <th>Tuple</th>\n",
        "    <th>Set</th>\n",
        "    <th> Dictionary</th>\n",
        "  </tr>\n",
        "  <tr>\n",
        "    <td><b>Khởi tạo</b></td>\n",
        "    <td><font size = \"3\" >$[$value0,value1..$]$</font></td>\n",
        "    <td><font size = \"3\" >$($value0,value1..$)$</font></td>\n",
        "    <td><font size = \"3\" >{value0,value1..}</font></td>\n",
        "    <td><font size = \"3\" >{key0: value0,<br>\n",
        "         key1:  value1,<br>\n",
        "         key2: value2..}</font></td>\n",
        "  </tr>\n",
        "  <tr>\n",
        "    <td><b>Sắp xếp</b></td>\n",
        "    <td><font color ='aqua'>Yes</font></td>\n",
        "    <td><font color ='aqua'>Yes</font></td>\n",
        "    <td><font color ='red'>No</font></td>\n",
        "    <td><font color ='green'>\"Có thể\"</font></td>\n",
        "  </tr>\n",
        "  <tr>\n",
        "    <td><b>Cho phép trùng</b></td>\n",
        "    <td><font color ='aqua'>Yes</font></td>\n",
        "    <td><font color ='aqua'>Yes</font></td>\n",
        "    <td><font color ='red'>No</font></td>\n",
        "    <td><font color ='red'>No</font>->keys<br><font color ='aqua'>Yes</font>->Values</td>\n",
        "  </tr>\n",
        "  <tr>\n",
        "    <td><b>Cho phép thay đổi</b></td>\n",
        "    <td><font color ='aqua'>Yes</font></td>\n",
        "    <td><font color ='red'>No</font></td>\n",
        "    <td><font color ='red'>No</font></td>\n",
        "    <td><font color ='aqua'>Yes</font></td>\n",
        "  </tr>\n",
        "  </table>\n"
      ]
    },
    {
      "cell_type": "markdown",
      "metadata": {
        "id": "UwgofDAVEGp1",
        "colab_type": "text"
      },
      "source": [
        "<p> ở phần này sẽ chưa giới thiệu sâu vào các kiểu dữ liệu tập hợp<br>mình chỉ liệt kê ra để mọi người biết qua về nó mình sẽ đề cập vào những bài sau</p>"
      ]
    },
    {
      "cell_type": "code",
      "metadata": {
        "id": "uRyezT465PCY",
        "colab_type": "code",
        "colab": {
          "base_uri": "https://localhost:8080/",
          "height": 85
        },
        "outputId": "e1eea02f-b160-4a3d-c262-a7c4f12c6f42"
      },
      "source": [
        "#khai báo list\n",
        "ls_number = [1,9,3,5,8,2]\n",
        "print(ls_number,' type ', type(ls_number))\n",
        "#Khai báo Tupple\n",
        "tp_number = (1,9,3,5,8,2)\n",
        "print(tp_number, ' type ',type(tp_number) )\n",
        "#khai báo set\n",
        "set_number = {1,9,3,5,8,2}\n",
        "print(set_number, ' type ',type(set_number) )\n",
        "#khai báo dictionary\n",
        "dic_fruits = {'banana': 2,\n",
        "              'apple' : 3,\n",
        "              'organe': 6,\n",
        "              'cherry': 7}\n",
        "print(dic_fruits, ' type ' , type(dic_fruits))\n"
      ],
      "execution_count": null,
      "outputs": [
        {
          "output_type": "stream",
          "text": [
            "[1, 9, 3, 5, 8, 2]  type  <class 'list'>\n",
            "(1, 9, 3, 5, 8, 2)  type  <class 'tuple'>\n",
            "{1, 2, 3, 5, 8, 9}  type  <class 'set'>\n",
            "{'banana': 2, 'apple': 3, 'organe': 6, 'cherry': 7}  type  <class 'dict'>\n"
          ],
          "name": "stdout"
        }
      ]
    },
    {
      "cell_type": "markdown",
      "metadata": {
        "id": "pUdOhwaB_THP",
        "colab_type": "text"
      },
      "source": [
        "<h3><font color = 'brown'> 4. Toán Tử ( opertator )</font></h3>\n",
        "<h4><font color = 'OLIVE'>a. Toán tử tính toán</font></h4>\n",
        "<li>$=$ 1 dấu '=' là phép gán</li>\n",
        "<li>$+$<ul>Số + Số</ul>\n",
        "      <ul>chuỗi + chuỗi -> ghép chuỗi</ul></li>\n",
        "<li>$-$</li>\n",
        "<li>$*$</li>\n",
        "<li>$/  $ chia bình thường</li>\n",
        "<li>$// $ chia lấy nguyên </li>\n",
        "<li>$\\% $ chia lấy dư</li>\n",
        "<li>$** $ mũ </li>\n",
        "<font color = 'green'> Một số toán tử bên trên còn được kết hợp với phép Gán</font>\n",
        "<ul>\n",
        "<li>$+=$  cộng xong rồi gán vd : a+=1 <=> a = a + 1</li>\n",
        "<li>$-=$  trừ xong rồi gán vd : a-=1 <=> a = a -1</li>\n",
        "<li>$*=$  nhân xong rồi gán vd: a*=2 <=> a = a*2 </li>\n",
        "<li>$/=$  chia xong rồi gán vd: a/=2 <=> a = a/2</li>\n",
        "<li>$//=$ chia lấy nguyên xong rồi gán\n",
        "<li>$\\%=$ chia lấy dư xong rồi gán\n",
        "<li>$**=$ lũy thừa xong rồi gán\n",
        "</ul>\n",
        "<h4><font color = 'OLIVE'>b. Toán tử so sánh</font></h4>\n",
        "<li>$>$ lớn </li>\n",
        "<li>$>=$ lớn hơn hoặc bằng </li>\n",
        "<li>$<$ bé </li>\n",
        "<li>$<=$ bé hơn hoặc bằng </li>\n",
        "<li>$ == $ so sánh bằng </li>\n",
        "<li>$ != $ so sánh khác </li>\n",
        "<h4><font color = 'OLIVE'>c. Toán tử Logic</font></h4>\n",
        "<li>$and$ </li>\n",
        "<li>$or$</li>\n",
        "<li>$not$</li>"
      ]
    },
    {
      "cell_type": "code",
      "metadata": {
        "id": "1UTaKS4qpnDr",
        "colab_type": "code",
        "colab": {
          "base_uri": "https://localhost:8080/",
          "height": 170
        },
        "outputId": "ef91fe5d-e3c9-43ea-cc90-12ac31d80be0"
      },
      "source": [
        "# số + số\n",
        "num_a = 11\n",
        "num_b = 2\n",
        "num_sum = num_a + num_b\n",
        "print('số + số :', num_a ,'+', num_b ,'=', num_sum)\n",
        "\n",
        "# chuỗi+chuỗi\n",
        "str_a = '11'\n",
        "str_b = '2'\n",
        "str_sum = str_a +str_b\n",
        "print('str + str :', str_a ,'+', str_b,'=', str_sum)\n",
        "# toán tử tính toán\n",
        "print(num_a,'+',num_b,'=',num_a+num_b)\n",
        "print(num_a,'-',num_b,'=',num_a-num_b)\n",
        "print(num_a,'*',num_b,'=',num_a*num_b)\n",
        "print(num_a,'/',num_b,'=',num_a/num_b)\n",
        "print(num_a,'//',num_b,'=',num_a//num_b)\n",
        "print(num_a,'%',num_b,'=',num_a%num_b)\n",
        "print(num_a,'**',num_b,'=',num_a**num_b)\n"
      ],
      "execution_count": null,
      "outputs": [
        {
          "output_type": "stream",
          "text": [
            "số + số : 11 + 2 = 13\n",
            "str + str : 11 + 2 = 112\n",
            "11 + 2 = 13\n",
            "11 - 2 = 9\n",
            "11 * 2 = 22\n",
            "11 / 2 = 5.5\n",
            "11 // 2 = 5\n",
            "11 % 2 = 1\n",
            "11 ** 2 = 121\n"
          ],
          "name": "stdout"
        }
      ]
    },
    {
      "cell_type": "code",
      "metadata": {
        "id": "QxVDpF1w8pMS",
        "colab_type": "code",
        "colab": {
          "base_uri": "https://localhost:8080/",
          "height": 85
        },
        "outputId": "3f1e19bb-08c9-4426-ab25-545e68b0e6ca"
      },
      "source": [
        "# toán tử so sánh\n",
        "print (num_1,'==',num_2, num_1 == num_2)\n",
        "print (num_1,'!=',num_2, num_1 != num_2)\n",
        "print (num_1,'>=',num_2, num_1 >= num_2)\n",
        "print (num_1,'<=',num_2, num_1 <= num_2)\n"
      ],
      "execution_count": null,
      "outputs": [
        {
          "output_type": "stream",
          "text": [
            "11 == 2 False\n",
            "11 != 2 True\n",
            "11 >= 2 True\n",
            "11 <= 2 False\n"
          ],
          "name": "stdout"
        }
      ]
    },
    {
      "cell_type": "markdown",
      "metadata": {
        "id": "KqwSVUxeTkWQ",
        "colab_type": "text"
      },
      "source": [
        "Kết quả của toán tử so sánh sẽ trả về là True hoặc False"
      ]
    },
    {
      "cell_type": "code",
      "metadata": {
        "id": "_uMTIXaBSNB6",
        "colab_type": "code",
        "colab": {
          "base_uri": "https://localhost:8080/",
          "height": 51
        },
        "outputId": "144c55c6-1944-4564-b7ce-c13dd3be78b5"
      },
      "source": [
        "# toán tử logic \n",
        "#ta kiểm tra 1 số vừa là số lẻ vừa chia hết cho 3 hay không?\n",
        "num_1 = 9 \n",
        "num_2 = 10\n",
        "\n",
        "print ((num_1%2==1) and (num_1%3==0))\n",
        "print ((num_2%2==1) and (num_2%3==0))\n"
      ],
      "execution_count": null,
      "outputs": [
        {
          "output_type": "stream",
          "text": [
            "True\n",
            "False\n"
          ],
          "name": "stdout"
        }
      ]
    },
    {
      "cell_type": "markdown",
      "metadata": {
        "id": "y37aYVCh4GBL",
        "colab_type": "text"
      },
      "source": [
        "condition1 $and$ condition2 $and$... => True khi <font color = 'red'> tất cả condition</font> đúng<br>\n",
        "condition11 $or$ condition2 $or$.... => True khi <font color = 'red'> ít nhất 1 condition</font> đúng"
      ]
    }
  ]
}